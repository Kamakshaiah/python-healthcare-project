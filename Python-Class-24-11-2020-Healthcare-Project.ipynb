{
 "cells": [
  {
   "cell_type": "markdown",
   "metadata": {},
   "source": [
    "# A project on healthcare service process"
   ]
  },
  {
   "cell_type": "markdown",
   "metadata": {},
   "source": [
    "## Ch -1: Introduction "
   ]
  },
  {
   "cell_type": "markdown",
   "metadata": {},
   "source": [
    "### About Python "
   ]
  },
  {
   "cell_type": "markdown",
   "metadata": {},
   "source": [
    "Lorem Ipsum is simply dummy text of the printing and typesetting industry. Lorem Ipsum has been the industry's standard dummy text ever since the 1500s, when an unknown printer took a galley of type and scrambled it to make a type specimen book. It has survived not only five centuries, but also the leap into electronic typesetting, remaining essentially unchanged. It was popularised in the 1960s with the release of Letraset sheets containing Lorem Ipsum passages, and more recently with desktop publishing software like Aldus PageMaker including versions of Lorem Ipsum."
   ]
  },
  {
   "cell_type": "markdown",
   "metadata": {},
   "source": [
    "### About healthcare industry "
   ]
  },
  {
   "cell_type": "markdown",
   "metadata": {},
   "source": [
    "India has a universal healthcare model that is mostly administered at the state level rather than the federal level. The public system is essentially free for all Indian residents except for small, often symbolic co-payments in some services. In 2019, the total net government spending on healthcare was $ 36 billion or 1.23 \\% of its GDP.[3] The Indian Constitution makes the provision of healthcare in India the responsibility of the state governments, rather than the central federal government. It makes every state responsible for \"raising the level of nutrition and the standard of living of its people and the improvement of public health as among its primary duties\". Since the country's independence, the public healthcare system has been entirely funded through general taxation."
   ]
  },
  {
   "cell_type": "markdown",
   "metadata": {},
   "source": [
    "#### Services in healthcare industry"
   ]
  },
  {
   "cell_type": "markdown",
   "metadata": {},
   "source": [
    "# Ch 2: SDLC"
   ]
  },
  {
   "cell_type": "markdown",
   "metadata": {},
   "source": [
    "## planning"
   ]
  },
  {
   "cell_type": "markdown",
   "metadata": {},
   "source": [
    "This project requires Python 3.6"
   ]
  },
  {
   "cell_type": "markdown",
   "metadata": {},
   "source": [
    "## Analysis "
   ]
  },
  {
   "cell_type": "markdown",
   "metadata": {},
   "source": [
    "Roles & Relationships \n"
   ]
  },
  {
   "cell_type": "markdown",
   "metadata": {},
   "source": [
    "who is a Doctor? role "
   ]
  },
  {
   "cell_type": "markdown",
   "metadata": {},
   "source": [
    "who is patient? role "
   ]
  },
  {
   "cell_type": "markdown",
   "metadata": {},
   "source": [
    "## Development "
   ]
  },
  {
   "cell_type": "code",
   "execution_count": 221,
   "metadata": {},
   "outputs": [],
   "source": [
    "def get_the_letter(word, idx):\n",
    "    idx = idx -1\n",
    "    for l in word.split():\n",
    "        return l[idx]"
   ]
  },
  {
   "cell_type": "code",
   "execution_count": 222,
   "metadata": {},
   "outputs": [
    {
     "data": {
      "text/plain": [
       "'k'"
      ]
     },
     "execution_count": 222,
     "metadata": {},
     "output_type": "execute_result"
    }
   ],
   "source": [
    "get_the_letter('kama', 1)"
   ]
  },
  {
   "cell_type": "code",
   "execution_count": 223,
   "metadata": {},
   "outputs": [
    {
     "data": {
      "text/plain": [
       "784"
      ]
     },
     "execution_count": 223,
     "metadata": {},
     "output_type": "execute_result"
    }
   ],
   "source": [
    "import random\n",
    "random.randint(1, 1000)"
   ]
  },
  {
   "cell_type": "code",
   "execution_count": 224,
   "metadata": {},
   "outputs": [],
   "source": [
    "class Doctor:\n",
    "    qual = []\n",
    "    spl = []\n",
    "    \n",
    "    def __init__(self, qual, spl):\n",
    "        self.qual = qual\n",
    "        self.spl = spl\n",
    "        \n",
    "    def getInfo(self):\n",
    "        import random\n",
    "        \n",
    "        self.rnd = random.randint(1, 100)\n",
    "        self.docId = f'{self.rnd}-{self.qual}-{self.spl}'\n",
    "        print(self.docId)\n",
    "        \n",
    "        "
   ]
  },
  {
   "cell_type": "code",
   "execution_count": 225,
   "metadata": {},
   "outputs": [],
   "source": [
    "class Patient:\n",
    "    \n",
    "    dental_patients = []\n",
    "    padiatric_patients = []\n",
    "    \n",
    "    def __init__(self, fname, lname, illness):\n",
    "        \n",
    "        self.fname = fname \n",
    "        self.lname = lname\n",
    "        self.illness = illness\n",
    "        \n",
    "    def getInfo(self):\n",
    "        import random\n",
    "        rnd = random.randint(1, 1000)\n",
    "        firstlettersofname = get_the_letter(self.fname, 1) + get_the_letter(self.lname, 1)\n",
    "        self.fullname = f'{self.fname } {self.lname}'\n",
    "        self.patid = f'{firstlettersofname}-{rnd}'\n",
    "        return {'fullname': self.fullname, 'patient_id': self.patid}\n",
    "    \n",
    "    def append_patients(self):\n",
    "        if self.illness == \"dental\":\n",
    "            self.dental_patients.append(self.fullname)\n",
    "        else:\n",
    "            self.padiatric_patients.append(self.fullname)\n",
    "            "
   ]
  },
  {
   "cell_type": "markdown",
   "metadata": {},
   "source": [
    "## Implementation "
   ]
  },
  {
   "cell_type": "code",
   "execution_count": 226,
   "metadata": {},
   "outputs": [
    {
     "name": "stdout",
     "output_type": "stream",
     "text": [
      "44-mbbs-padiatrician\n",
      "mbbs padiatrician None\n",
      "97-bds-surgeon\n",
      "bds surgeon None\n"
     ]
    }
   ],
   "source": [
    "doc1 = Doctor(qual = \"mbbs\", spl = \"padiatrician\")\n",
    "doc2 = Doctor(qual = \"bds\", spl = \"surgeon\")\n",
    "\n",
    "print(doc1.qual, doc1.spl, doc1.getInfo())\n",
    "print(doc2.qual, doc2.spl, doc2.getInfo())"
   ]
  },
  {
   "cell_type": "code",
   "execution_count": 227,
   "metadata": {},
   "outputs": [],
   "source": [
    "pat = Patient(fname=\"kamakshaiah\", lname=\"musunuru\", illness = \"dental\")\n",
    "pat2 = Patient(fname=\"vinod\", lname=\"datta\", illness = \"padiatric\")"
   ]
  },
  {
   "cell_type": "code",
   "execution_count": 228,
   "metadata": {},
   "outputs": [
    {
     "name": "stdout",
     "output_type": "stream",
     "text": [
      "kamakshaiah musunuru\n",
      "vinod datta\n"
     ]
    }
   ],
   "source": [
    "print(pat.getInfo()['fullname'])\n",
    "print(pat2.getInfo()['fullname'])"
   ]
  },
  {
   "cell_type": "code",
   "execution_count": 229,
   "metadata": {},
   "outputs": [],
   "source": [
    "pat.append_patients()\n",
    "pat2.append_patients()"
   ]
  },
  {
   "cell_type": "code",
   "execution_count": 230,
   "metadata": {},
   "outputs": [
    {
     "data": {
      "text/plain": [
       "['kamakshaiah musunuru']"
      ]
     },
     "execution_count": 230,
     "metadata": {},
     "output_type": "execute_result"
    }
   ],
   "source": [
    "pat.dental_patients"
   ]
  },
  {
   "cell_type": "code",
   "execution_count": 231,
   "metadata": {},
   "outputs": [
    {
     "data": {
      "text/plain": [
       "['vinod datta']"
      ]
     },
     "execution_count": 231,
     "metadata": {},
     "output_type": "execute_result"
    }
   ],
   "source": [
    "Patient.padiatric_patients"
   ]
  },
  {
   "cell_type": "code",
   "execution_count": null,
   "metadata": {},
   "outputs": [],
   "source": []
  }
 ],
 "metadata": {
  "kernelspec": {
   "display_name": "Python 3",
   "language": "python",
   "name": "python3"
  },
  "language_info": {
   "codemirror_mode": {
    "name": "ipython",
    "version": 3
   },
   "file_extension": ".py",
   "mimetype": "text/x-python",
   "name": "python",
   "nbconvert_exporter": "python",
   "pygments_lexer": "ipython3",
   "version": "3.8.1"
  }
 },
 "nbformat": 4,
 "nbformat_minor": 4
}
